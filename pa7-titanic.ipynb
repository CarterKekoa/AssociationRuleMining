{
 "metadata": {
  "language_info": {
   "codemirror_mode": {
    "name": "ipython",
    "version": 3
   },
   "file_extension": ".py",
   "mimetype": "text/x-python",
   "name": "python",
   "nbconvert_exporter": "python",
   "pygments_lexer": "ipython3",
   "version": "3.8.5"
  },
  "orig_nbformat": 2,
  "kernelspec": {
   "name": "python385jvsc74a57bd098b0a9b7b4eaaa670588a142fd0a9b87eaafe866f1db4228be72b4211d12040f",
   "display_name": "Python 3.8.5 64-bit ('base': conda)"
  }
 },
 "nbformat": 4,
 "nbformat_minor": 2,
 "cells": [
  {
   "source": [
    "# Part 2: Datasets (30 pts)"
   ],
   "cell_type": "markdown",
   "metadata": {}
  },
  {
   "cell_type": "code",
   "execution_count": 16,
   "metadata": {},
   "outputs": [],
   "source": [
    "# some useful mysklearn package import statements and reloads\n",
    "import importlib\n",
    "import time\n",
    "\n",
    "import mysklearn.myutils\n",
    "importlib.reload(mysklearn.myutils)\n",
    "import mysklearn.myutils as myutils\n",
    "\n",
    "# uncomment once you paste your mypytable.py into mysklearn package\n",
    "import mysklearn.mypytable\n",
    "importlib.reload(mysklearn.mypytable)\n",
    "from mysklearn.mypytable import MyPyTable \n",
    "\n",
    "import mysklearn.myruleminer\n",
    "importlib.reload(mysklearn.myruleminer)\n",
    "from mysklearn.myruleminer import MyAssociationRuleMiner"
   ]
  },
  {
   "source": [
    "## Step 1: 🚢 Titanic Rule Mining 🚢¶  \n",
    "\n",
    "Run your apriori algorithm over the titanic dataset. \n",
    "Run and analyze your results using different min support and confidence values.  \n",
    "\n",
    "Write a short description of the rules your implementation found, focusing on:\n",
    "* Whether they make sense to you  \n",
    "    * These results make sense to me since there are not many columns or variation, meaning the data can be represented by a few rules only.\n",
    "* How they compare (if at all) to your classification results from PA5 and PA6  \n",
    "    * Compared to PA5 and PA6, it seems like this data is a bit more accurate and is easier to filter which is nice.\n",
    "* How the different values of min support and confidence changed the rules generated  \n",
    "    * By changing min support we could require rules to appear more often, thus limiting the amount of rules returned. By changing the Confidence we were able to limit the rules to ones that were more accurate for us."
   ],
   "cell_type": "markdown",
   "metadata": {}
  },
  {
   "cell_type": "code",
   "execution_count": 17,
   "metadata": {},
   "outputs": [
    {
     "output_type": "stream",
     "name": "stdout",
     "text": [
      "\n===========================================\nAssociation Rule Miner 1\nMin Support: 0.25\nConfidence Values: 0.8\n===========================================\n\n  Number  Association Rule                  Support    Confidence      Lift\n--------  ------------------------------  ---------  ------------  --------\n       1  IF female AND third THEN adult   0.39164       1         1.0521\n       2  IF adult AND third THEN female   0.39164       0.974011  1.23847\n       3  IF third THEN adult AND female   0.39164       0.974011  1.28602\n       4  IF female THEN adult             0.757383      0.963027  1.0132\n       5  IF second THEN adult             0.284871      0.888102  0.934375\n       6  IF third THEN adult              0.40209       1         1.0521\n       7  IF third THEN female             0.39164       0.974011  1.23847\n\n\n===========================================\nAssociation Rule Miner 2\nMin Support: 0.5\nConfidence Values: 0.5\n===========================================\n\n  Number  Association Rule        Support    Confidence    Lift\n--------  --------------------  ---------  ------------  ------\n       1  IF female THEN adult   0.757383      0.963027  1.0132\n       2  IF adult THEN female   0.757383      0.796845  1.0132\n\n\n===========================================\nAssociation Rule Miner 2\nMin Support: 0.4\nConfidence Values: 0.9\n===========================================\n\n  Number  Association Rule        Support    Confidence    Lift\n--------  --------------------  ---------  ------------  ------\n       1  IF female THEN adult   0.757383      0.963027  1.0132\n       2  IF third THEN adult    0.40209       1         1.0521\n"
     ]
    }
   ],
   "source": [
    "import os\n",
    "importlib.reload(myutils)\n",
    "\n",
    "# Get the file data\n",
    "fname = os.path.join(\"input_data\", \"titanic.txt\")\n",
    "titanic_data = MyPyTable().load_from_file(fname)\n",
    "titanic_data.remove_rows_with_missing_values() # prep the data by removing any missing values\n",
    "\n",
    "# Grab the class, age, sex and store in a list\n",
    "titatic_class = titanic_data.get_column('class')\n",
    "titatic_age = titanic_data.get_column('age')\n",
    "titatic_sex = titanic_data.get_column('sex')\n",
    "\n",
    "# split the data\n",
    "X_train = [[titatic_class[i],titatic_age[i],titatic_sex[i]] for i in range(len(titatic_class))]\n",
    "y_train = titanic_data.get_column('survived')\n",
    "\n",
    "# fit the data\n",
    "marm = MyAssociationRuleMiner()\n",
    "rules = marm.fit(X_train)\n",
    "\n",
    "print()\n",
    "print(\"===========================================\")\n",
    "print(\"Association Rule Miner 1\")\n",
    "print(\"Min Support: 0.25\\nConfidence Values: 0.8\")\n",
    "print(\"===========================================\")\n",
    "print()\n",
    "marm.print_association_rules()\n",
    "\n",
    "marm.__init__(0.5, 0.5)\n",
    "rules = marm.fit(X_train)\n",
    "print()\n",
    "print()\n",
    "print(\"===========================================\")\n",
    "print(\"Association Rule Miner 2\")\n",
    "print(\"Min Support: 0.5\\nConfidence Values: 0.5\")\n",
    "print(\"===========================================\")\n",
    "print()\n",
    "marm.print_association_rules()\n",
    "\n",
    "marm.__init__(0.4, 0.9)\n",
    "rules = marm.fit(X_train)\n",
    "print()\n",
    "print()\n",
    "print(\"===========================================\")\n",
    "print(\"Association Rule Miner 2\")\n",
    "print(\"Min Support: 0.4\\nConfidence Values: 0.9\")\n",
    "print(\"===========================================\")\n",
    "print()\n",
    "marm.print_association_rules()\n",
    "\n"
   ]
  }
 ]
}